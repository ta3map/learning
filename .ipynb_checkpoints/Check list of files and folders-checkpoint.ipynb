{
 "cells": [
  {
   "cell_type": "markdown",
   "metadata": {},
   "source": [
    "# Check list of folders and files inside the directory"
   ]
  },
  {
   "cell_type": "code",
   "execution_count": 11,
   "metadata": {},
   "outputs": [],
   "source": [
    "from os import listdir\n",
    "from os.path import isfile, join"
   ]
  },
  {
   "cell_type": "code",
   "execution_count": 12,
   "metadata": {},
   "outputs": [
    {
     "data": {
      "text/plain": [
       "['2019-03-25',\n",
       " '2019-03-26',\n",
       " '2019-03-27',\n",
       " '2019-03-28',\n",
       " '2019-03-29',\n",
       " '2019-03-30',\n",
       " '2019-04-01',\n",
       " '2019-04-17',\n",
       " '2019-04-22',\n",
       " '2019-05-27',\n",
       " 'cortex_ios_template.avi',\n",
       " 'cortex_ios_template.csv',\n",
       " 'cortex_ios_template.jpg',\n",
       " 'cortex_ios_template.lvdat']"
      ]
     },
     "execution_count": 12,
     "metadata": {},
     "output_type": "execute_result"
    }
   ],
   "source": [
    "mypath = r'\\\\IFMB-02-024B-10\\Ischemia2\\OOS'\n",
    "listdir(mypath)"
   ]
  },
  {
   "cell_type": "code",
   "execution_count": null,
   "metadata": {},
   "outputs": [],
   "source": []
  }
 ],
 "metadata": {
  "kernelspec": {
   "display_name": "Python 3",
   "language": "python",
   "name": "python3"
  },
  "language_info": {
   "codemirror_mode": {
    "name": "ipython",
    "version": 3
   },
   "file_extension": ".py",
   "mimetype": "text/x-python",
   "name": "python",
   "nbconvert_exporter": "python",
   "pygments_lexer": "ipython3",
   "version": "3.7.3"
  }
 },
 "nbformat": 4,
 "nbformat_minor": 2
}
