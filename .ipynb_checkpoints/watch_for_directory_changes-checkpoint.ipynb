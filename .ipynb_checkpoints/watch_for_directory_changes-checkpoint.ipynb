{
 "cells": [
  {
   "cell_type": "markdown",
   "metadata": {},
   "source": [
    "#### Check if new file added or removed\n",
    "run watch_folder(path_to_watch) to check if something changed"
   ]
  },
  {
   "cell_type": "code",
   "execution_count": 6,
   "metadata": {},
   "outputs": [],
   "source": [
    "import os, time\n",
    "#path_to_watch = r\"D:\\Neurolab\\ialdev\\Ischemia YG\\learning\"\n",
    "def watch_folder(path_to_watch):\n",
    "    before = dict ([(f, None) for f in os.listdir (path_to_watch)])\n",
    "    while 1:\n",
    "      time.sleep (10)\n",
    "      after = dict ([(f, None) for f in os.listdir (path_to_watch)])\n",
    "      added = [f for f in after if not f in before]\n",
    "      removed = [f for f in before if not f in after]\n",
    "      if added: print(\"Added: \", \", \".join (added))\n",
    "      if removed: print(\"Removed: \", \", \".join (removed))\n",
    "      before = after"
   ]
  },
  {
   "cell_type": "markdown",
   "metadata": {},
   "source": [
    "http://timgolden.me.uk/python/win32_how_do_i/watch_directory_for_changes.html"
   ]
  }
 ],
 "metadata": {
  "kernelspec": {
   "display_name": "Python 3",
   "language": "python",
   "name": "python3"
  },
  "language_info": {
   "codemirror_mode": {
    "name": "ipython",
    "version": 3
   },
   "file_extension": ".py",
   "mimetype": "text/x-python",
   "name": "python",
   "nbconvert_exporter": "python",
   "pygments_lexer": "ipython3",
   "version": "3.7.3"
  }
 },
 "nbformat": 4,
 "nbformat_minor": 2
}
