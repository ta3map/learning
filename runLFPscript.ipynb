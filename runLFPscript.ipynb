{
 "cells": [
  {
   "cell_type": "code",
   "execution_count": 1,
   "metadata": {},
   "outputs": [],
   "source": [
    "import os"
   ]
  },
  {
   "cell_type": "code",
   "execution_count": 2,
   "metadata": {},
   "outputs": [
    {
     "data": {
      "text/plain": [
       "'matlab -nodisplay -nosplash -nodesktop -r \"cd(\\'D:\\\\Neurolab\\\\ialdev\\\\matlab scripts\\'); protocolFolder =\\'D:\\\\Neurolab\\\\Ischemia YG\\\\Protocol\\\\IschemiaYGProtocol.xlsx\\'; saveFolder =\\'D:\\\\Neurolab\\\\Ischemia YG\\\\Traces\\'; ch = 3\\';  lfp_script(protocolFolder,470,ch,saveFolder); exit;'"
      ]
     },
     "execution_count": 2,
     "metadata": {},
     "output_type": "execute_result"
    }
   ],
   "source": [
    "scriptsFolder = r'D:\\Neurolab\\ialdev\\matlab scripts'\n",
    "protocolFolder = r'D:\\Neurolab\\Ischemia YG\\Protocol\\IschemiaYGProtocol.xlsx'\n",
    "saveFolder = r'D:\\Neurolab\\Ischemia YG\\Traces'\n",
    "ch = 3\n",
    "idlist = [446, 447, 450, 451, 452, 453, 454, 455, 456, 457, 458, 459, 460, 461, 462, 468, 469, 470, 471]\n",
    "idlist = [470];\n",
    "# concatenating bash comand\n",
    "bc = ''\n",
    "bc = bc + 'matlab -nodisplay -nosplash -nodesktop'\n",
    "bc = bc + ' -r \"cd(' + \"'\" + scriptsFolder + \"'\" + '); '\n",
    "bc = bc + 'protocolFolder ='  r\"'\" + protocolFolder + r\"'; \"\n",
    "bc = bc + 'saveFolder =' r\"'\" + saveFolder + r\"'; \"\n",
    "bc = bc + 'ch = ' + str(ch) + r\"'; \"\n",
    "\n",
    "for id in idlist:\n",
    "    bc = bc + r\" lfp_script(protocolFolder,\"+ str(id) +r\",ch,saveFolder);\"\n",
    "bc = bc + r\" exit;\"\n",
    "bc"
   ]
  },
  {
   "cell_type": "code",
   "execution_count": 3,
   "metadata": {},
   "outputs": [
    {
     "data": {
      "text/plain": [
       "0"
      ]
     },
     "execution_count": 3,
     "metadata": {},
     "output_type": "execute_result"
    }
   ],
   "source": [
    "# run bash\n",
    "os.system(bc)"
   ]
  },
  {
   "cell_type": "markdown",
   "metadata": {},
   "source": [
    "# нужно сделать скрипт в виде python функции "
   ]
  }
 ],
 "metadata": {
  "kernelspec": {
   "display_name": "Python 3",
   "language": "python",
   "name": "python3"
  },
  "language_info": {
   "codemirror_mode": {
    "name": "ipython",
    "version": 3
   },
   "file_extension": ".py",
   "mimetype": "text/x-python",
   "name": "python",
   "nbconvert_exporter": "python",
   "pygments_lexer": "ipython3",
   "version": "3.7.3"
  }
 },
 "nbformat": 4,
 "nbformat_minor": 2
}
